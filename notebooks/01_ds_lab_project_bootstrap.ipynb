{
  "cells": [
    {
      "cell_type": "markdown",
      "metadata": {
        "id": "RJexliKbY2fv"
      },
      "source": [
        "## Infrastruture as Code git repo cloning\n"
      ]
    },
    {
      "cell_type": "code",
      "execution_count": null,
      "metadata": {
        "id": "_i45jZFkY2fw"
      },
      "outputs": [],
      "source": [
        "REPO_NAME=\"big-data-lab\"\n",
        "USER_NAME=\"kzawisza\" # TODO: replace with your GitHub username"
      ]
    },
    {
      "cell_type": "code",
      "execution_count": null,
      "metadata": {
        "id": "srDEGVxWY2fx"
      },
      "outputs": [],
      "source": [
        "%env REPO_NAME=$REPO_NAME\n",
        "%env USER_NAME=$USER_NAME"
      ]
    },
    {
      "cell_type": "code",
      "execution_count": null,
      "metadata": {
        "id": "ZQq4xSjdY2fz"
      },
      "outputs": [],
      "source": [
        "%%shell\n",
        "rm -rf $REPO_NAME\n",
        "git clone https://github.com/$USER_NAME/$REPO_NAME.git\n",
        "cd $REPO_NAME"
      ]
    },
    {
      "cell_type": "markdown",
      "metadata": {
        "id": "Eu1ls0uRY2fz"
      },
      "source": [
        "## Setup Terraform"
      ]
    },
    {
      "cell_type": "code",
      "execution_count": null,
      "metadata": {
        "id": "xczh2P_PY2fz"
      },
      "outputs": [],
      "source": [
        "%run $REPO_NAME/notebooks/lib/00_terraform_setup.ipynb"
      ]
    },
    {
      "cell_type": "markdown",
      "metadata": {
        "id": "3AevC3qoY2fz"
      },
      "source": [
        "## Lab configuration\n",
        "1. Edit `$REPO_NAME/notebooks/conf/00_env_variables.ipynb`"
      ]
    },
    {
      "cell_type": "code",
      "execution_count": null,
      "metadata": {
        "id": "E1ucNRCQY2f0"
      },
      "outputs": [],
      "source": [
        "%run $REPO_NAME/notebooks/conf/00_env_variables.ipynb"
      ]
    },
    {
      "cell_type": "markdown",
      "metadata": {
        "id": "-BQE5-tUY2f5"
      },
      "source": [
        "## Google account authentication"
      ]
    },
    {
      "cell_type": "code",
      "execution_count": null,
      "metadata": {
        "id": "G2VX8IAPY2f6"
      },
      "outputs": [],
      "source": [
        "# Authenticate to the Google account\n",
        "from google.colab import auth\n",
        "auth.authenticate_user()"
      ]
    },
    {
      "cell_type": "markdown",
      "metadata": {
        "id": "BXkT8ZHvY2f7"
      },
      "source": [
        "## Validating the infrastructure execution plan"
      ]
    },
    {
      "cell_type": "code",
      "execution_count": null,
      "metadata": {
        "id": "DHpFFLeTY2f7"
      },
      "outputs": [],
      "source": [
        "%%shell\n",
        "cd $REPO_NAME/infra/bootstrap\n",
        "terraform init\n",
        "terraform plan"
      ]
    },
    {
      "cell_type": "markdown",
      "metadata": {
        "id": "hRB0vRsxY2f8"
      },
      "source": [
        "## Initial project setup\n",
        "\n",
        "* You're going to provision a new project.\n",
        "* In the first step you only do a very basic setup, e.g.\n",
        "  * enabling cloud services,\n",
        "  * creating a bucket for a Terraform state file and\n",
        "  * granting Editor roles to the lab instructors.\n",
        "* You can run below cells multiple time to observe the difference.\n",
        "\n"
      ]
    },
    {
      "cell_type": "code",
      "execution_count": null,
      "metadata": {
        "id": "p4lBqlakY2f8"
      },
      "outputs": [],
      "source": [
        "%%shell\n",
        "# bootstrap a project:\n",
        "cd $REPO_NAME/infra/bootstrap\n",
        "terraform apply -auto-approve"
      ]
    },
    {
      "cell_type": "markdown",
      "metadata": {
        "id": "sD6iVdZ8Y2f8"
      },
      "source": [
        "### Finish\n",
        "Copy the **output variables** from the above out as you will need them in the next notebook."
      ]
    },
    {
      "cell_type": "markdown",
      "metadata": {
        "id": "7g4cg1avY2f9"
      },
      "source": []
    }
  ],
  "metadata": {
    "colab": {
      "provenance": []
    },
    "kernelspec": {
      "display_name": "Python 3 (ipykernel)",
      "language": "python",
      "name": "python3"
    },
    "language_info": {
      "codemirror_mode": {
        "name": "ipython",
        "version": 3
      },
      "file_extension": ".py",
      "mimetype": "text/x-python",
      "name": "python",
      "nbconvert_exporter": "python",
      "pygments_lexer": "ipython3"
    }
  },
  "nbformat": 4,
  "nbformat_minor": 0
}